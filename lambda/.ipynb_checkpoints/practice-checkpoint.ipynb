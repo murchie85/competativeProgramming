{
 "cells": [
  {
   "cell_type": "markdown",
   "metadata": {},
   "source": [
    "Write a Python program to create a lambda function that adds 15 to a given number passed in as an argument,  \n",
    "also create a lambda function that multiplies argument x with argument y and print the result.   \n",
    "25\n",
    "48"
   ]
  },
  {
   "cell_type": "code",
   "execution_count": 1,
   "metadata": {},
   "outputs": [
    {
     "name": "stdout",
     "output_type": "stream",
     "text": [
      "25\n",
      "48\n"
     ]
    }
   ],
   "source": [
    "r = lambda a: a + 15\n",
    "print(r(10))\n",
    "\n",
    "r = lambda x,y: x * y\n",
    "\n",
    "print(r(12,4))\n"
   ]
  },
  {
   "cell_type": "markdown",
   "metadata": {},
   "source": [
    "Write a Python program to create a function that takes one argument,   \n",
    "and that argument will be multiplied with an unknown given number.   \n",
    "Sample Output:  \n",
    "Double the number of 15 = 30  \n",
    "Triple the number of 15 = 45  \n",
    "Quadruple the number of 15 = 60  \n",
    "Quintuple the number 15 = 75  "
   ]
  },
  {
   "cell_type": "code",
   "execution_count": null,
   "metadata": {},
   "outputs": [],
   "source": []
  }
 ],
 "metadata": {
  "kernelspec": {
   "display_name": "Python 3",
   "language": "python",
   "name": "python3"
  },
  "language_info": {
   "codemirror_mode": {
    "name": "ipython",
    "version": 3
   },
   "file_extension": ".py",
   "mimetype": "text/x-python",
   "name": "python",
   "nbconvert_exporter": "python",
   "pygments_lexer": "ipython3",
   "version": "3.7.6"
  }
 },
 "nbformat": 4,
 "nbformat_minor": 4
}
