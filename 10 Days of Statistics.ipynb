{
 "cells": [
  {
   "cell_type": "markdown",
   "metadata": {},
   "source": [
    "# CODE SNIPPETS TO LEARN"
   ]
  },
  {
   "cell_type": "markdown",
   "metadata": {},
   "source": [
    "### Dict.get to add default values \n",
    "```python \n",
    "    counts = dict()\n",
    "    for i in nums:\n",
    "        # Get i then adds 1, alternatively updates 0 if not found (then adds 1)\n",
    "        counts[i] = counts.get(i, 0) + \n",
    "```\n",
    "\n",
    "### Map to list\n",
    "\n",
    "```python\n",
    "array = \"10 40 30 50 20\"\n",
    "numberArray = list(map(int, array.split()))\n",
    "```\n",
    "\n"
   ]
  },
  {
   "cell_type": "markdown",
   "metadata": {},
   "source": [
    "## Get Mean, Median and Mode"
   ]
  },
  {
   "cell_type": "code",
   "execution_count": 16,
   "metadata": {},
   "outputs": [
    {
     "name": "stdout",
     "output_type": "stream",
     "text": [
      "43900.6\n",
      "44627.5\n",
      "4978\n"
     ]
    }
   ],
   "source": [
    "import sys\n",
    "\n",
    "#arraySize = int(input())\n",
    "\n",
    "inputnum = '64630 11735 14216 99233 14470 4978 73429 38120 51135 67060'\n",
    "numberArray = list(map(int, inputnum.split()))\n",
    "\n",
    "\n",
    "def getMean(numberArray):\n",
    "    meanOut = sum(numberArray)/len(numberArray)\n",
    "    print(meanOut)\n",
    "\n",
    "\n",
    "def getMedian(numberArray):\n",
    "    numberArray.sort()\n",
    "    index = len(numberArray) // 2\n",
    "    ## if there is a remainder, then there is a middle number (because arrays start at 0)\n",
    "    if(len(numberArray) % 2): \n",
    "        print(numberArray[index])\n",
    "    else:\n",
    "        result = (numberArray[index - 1] + numberArray[index])/2\n",
    "        print(result)\n",
    "        \n",
    "def getMode(numberArray):\n",
    "    nums = numberArray\n",
    "    nums.sort()\n",
    "    counts = dict()\n",
    "    for i in nums:\n",
    "        # Get i then adds 1, alternatively updates 0 if not found (then adds 1)\n",
    "        counts[i] = counts.get(i, 0) + 1\n",
    "    mode = max(counts, key=counts.get)\n",
    "    print(mode)\n",
    "    \n",
    "getMean(numberArray)\n",
    "getMedian(numberArray)\n",
    "getMode(numberArray)"
   ]
  },
  {
   "cell_type": "markdown",
   "metadata": {},
   "source": [
    "## Weighted mean"
   ]
  },
  {
   "cell_type": "code",
   "execution_count": 2,
   "metadata": {},
   "outputs": [
    {
     "name": "stdout",
     "output_type": "stream",
     "text": [
      "32.0\n"
     ]
    }
   ],
   "source": [
    "#inputs\n",
    "\n",
    "size        = \"5\"\n",
    "inputArray  = \"10 40 30 50 20 \"\n",
    "weightArray = \"1 2 3 4 5 \"\n",
    "\n",
    "# format inputs\n",
    "\n",
    "size = int(size)\n",
    "inputArray = list(map(int, inputArray.split()))\n",
    "weightArray = list(map(int, weightArray.split()))\n",
    "\n",
    "# weighted mean\n",
    "def getWeightedMean(inputArray,weightArray):\n",
    "    combinedArray = []\n",
    "    for x in range(0, len(inputArray)):\n",
    "        weightedValue = inputArray[x] * weightArray[x]\n",
    "        combinedArray.append(weightedValue)\n",
    "    \n",
    "    weightedMeanValue =  sum(combinedArray)/sum(weightArray)\n",
    "    \n",
    "    print(weightedMeanValue)\n",
    "    \n",
    "getWeightedMean(inputArray,weightArray)"
   ]
  },
  {
   "cell_type": "markdown",
   "metadata": {},
   "source": [
    "## Standard Deviation "
   ]
  },
  {
   "cell_type": "code",
   "execution_count": 3,
   "metadata": {},
   "outputs": [
    {
     "name": "stdout",
     "output_type": "stream",
     "text": [
      "14.1\n"
     ]
    }
   ],
   "source": [
    "size = \"5\"\n",
    "array = \"10 40 30 50 20\"\n",
    "numberArray = list(map(int, array.split()))\n",
    "\n",
    "def getstd(numberArray):\n",
    "    numMean = sum(numberArray)/len(numberArray)\n",
    "    squaredArray = []\n",
    "    for x in range(0, len(numberArray)):\n",
    "        numSquared = (numberArray[x] - numMean) ** 2\n",
    "        squaredArray.append(numSquared)\n",
    "\n",
    "    std = (sum(squaredArray)/len(numberArray)) ** 0.5\n",
    "    std = round(std, 1)\n",
    "    print(std)\n",
    "    \n",
    "getstd(numberArray)"
   ]
  },
  {
   "cell_type": "markdown",
   "metadata": {},
   "source": [
    "## Quartiles"
   ]
  },
  {
   "cell_type": "code",
   "execution_count": 106,
   "metadata": {},
   "outputs": [],
   "source": [
    "size       = \"9\"\n",
    "inputArray = \"3 7 8 5 12 14 21 13 18\"\n",
    "\n",
    "array = list(map(int, inputArray.split() ))\n",
    "array.sort()"
   ]
  },
  {
   "cell_type": "markdown",
   "metadata": {},
   "source": [
    "## Injector \n",
    "\n",
    "import random \n",
    "\n",
    "size = random.randrange(0,50)\n",
    "array = []\n",
    "for x in range(0, size):\n",
    "    array.append(random.randrange(0,9))\n",
    "array.sort()"
   ]
  },
  {
   "cell_type": "code",
   "execution_count": 109,
   "metadata": {},
   "outputs": [
    {
     "name": "stdout",
     "output_type": "stream",
     "text": [
      "6\n",
      "12\n",
      "16\n"
     ]
    }
   ],
   "source": [
    "import random \n",
    "\n",
    "\n",
    "def getMid(chosenRange):\n",
    "    if(len(chosenRange) % 2):\n",
    "        return(chosenRange[len(chosenRange)//2])\n",
    "    else:\n",
    "        return((chosenRange[len(chosenRange)//2 - 1]  + chosenRange[len(chosenRange)//2 ] ) // 2)\n",
    "\n",
    "\n",
    "M = getMid(array)\n",
    "\n",
    "\n",
    "Q1r = array[0:len(array) // 2]\n",
    "\n",
    "if(len(array)%2):\n",
    "    # odd (skip median as already used)\n",
    "    q3r = array[len(array) // 2 + 1:]\n",
    "    # even\n",
    "else:\n",
    "    q3r = array[len(array) // 2:]\n",
    "\n",
    "\n",
    "\n",
    "print(getMid(Q1r))\n",
    "print(M)\n",
    "print(getMid(q3r))\n"
   ]
  },
  {
   "cell_type": "markdown",
   "metadata": {},
   "source": [
    "# Interquartile range"
   ]
  },
  {
   "cell_type": "code",
   "execution_count": 111,
   "metadata": {},
   "outputs": [
    {
     "name": "stdout",
     "output_type": "stream",
     "text": [
      "9.0\n"
     ]
    }
   ],
   "source": [
    "import statistics as st\n",
    "\n",
    "#n = int(input())\n",
    "#data = list(map(int, input().split()))\n",
    "#freq = list(map(int, input().split()))\n",
    "\n",
    "\n",
    "n = int(\"6\")\n",
    "data = list(map(int, \"6 12 8 10 20 16\".split()))\n",
    "freq = list(map(int, \"5 4 3 2 1 5\".split()))\n",
    "\n",
    "\n",
    "\n",
    "\n",
    "s = []\n",
    "for i in range(n):\n",
    "    # append data x freq\n",
    "    s += [data[i]] * freq[i]\n",
    "N = sum(freq)\n",
    "s.sort()\n",
    "\n",
    "if n%2 != 0:\n",
    "    q1 = st.median(s[:N//2])\n",
    "    q3 = st.median(s[N//2+1:])\n",
    "else:\n",
    "    q1 = st.median(s[:N//2])\n",
    "    q3 = st.median(s[N//2:])\n",
    "\n",
    "ir = round(float(q3-q1), 1)\n",
    "print(ir)"
   ]
  },
  {
   "cell_type": "code",
   "execution_count": 110,
   "metadata": {},
   "outputs": [
    {
     "data": {
      "text/plain": [
       "[3, 5, 7, 8, 12, 13, 14, 18, 21]"
      ]
     },
     "execution_count": 110,
     "metadata": {},
     "output_type": "execute_result"
    }
   ],
   "source": [
    "array"
   ]
  },
  {
   "cell_type": "code",
   "execution_count": null,
   "metadata": {},
   "outputs": [],
   "source": []
  }
 ],
 "metadata": {
  "kernelspec": {
   "display_name": "Python 3",
   "language": "python",
   "name": "python3"
  },
  "language_info": {
   "codemirror_mode": {
    "name": "ipython",
    "version": 3
   },
   "file_extension": ".py",
   "mimetype": "text/x-python",
   "name": "python",
   "nbconvert_exporter": "python",
   "pygments_lexer": "ipython3",
   "version": "3.7.6"
  }
 },
 "nbformat": 4,
 "nbformat_minor": 4
}
