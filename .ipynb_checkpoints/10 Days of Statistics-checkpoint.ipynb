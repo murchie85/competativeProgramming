{
 "cells": [
  {
   "cell_type": "markdown",
   "metadata": {},
   "source": [
    "# CODE SNIPPETS TO LEARN"
   ]
  },
  {
   "cell_type": "markdown",
   "metadata": {},
   "source": [
    "### Dict.get to add default values \n",
    "```python \n",
    "    counts = dict()\n",
    "    for i in nums:\n",
    "        # Get i then adds 1, alternatively updates 0 if not found (then adds 1)\n",
    "        counts[i] = counts.get(i, 0) + \n",
    "```\n",
    "\n",
    "### Map to list\n",
    "\n",
    "```python\n",
    "array = \"10 40 30 50 20\"\n",
    "numberArray = list(map(int, array.split()))\n",
    "```\n",
    "\n"
   ]
  },
  {
   "cell_type": "markdown",
   "metadata": {},
   "source": [
    "## Get Mean, Median and Mode"
   ]
  },
  {
   "cell_type": "code",
   "execution_count": 16,
   "metadata": {},
   "outputs": [
    {
     "name": "stdout",
     "output_type": "stream",
     "text": [
      "43900.6\n",
      "44627.5\n",
      "4978\n"
     ]
    }
   ],
   "source": [
    "import sys\n",
    "\n",
    "#arraySize = int(input())\n",
    "\n",
    "inputnum = '64630 11735 14216 99233 14470 4978 73429 38120 51135 67060'\n",
    "numberArray = list(map(int, inputnum.split()))\n",
    "\n",
    "\n",
    "def getMean(numberArray):\n",
    "    meanOut = sum(numberArray)/len(numberArray)\n",
    "    print(meanOut)\n",
    "\n",
    "\n",
    "def getMedian(numberArray):\n",
    "    numberArray.sort()\n",
    "    index = len(numberArray) // 2\n",
    "    ## if there is a remainder, then there is a middle number (because arrays start at 0)\n",
    "    if(len(numberArray) % 2): \n",
    "        print(numberArray[index])\n",
    "    else:\n",
    "        result = (numberArray[index - 1] + numberArray[index])/2\n",
    "        print(result)\n",
    "        \n",
    "def getMode(numberArray):\n",
    "    nums = numberArray\n",
    "    nums.sort()\n",
    "    counts = dict()\n",
    "    for i in nums:\n",
    "        # Get i then adds 1, alternatively updates 0 if not found (then adds 1)\n",
    "        counts[i] = counts.get(i, 0) + 1\n",
    "    mode = max(counts, key=counts.get)\n",
    "    print(mode)\n",
    "    \n",
    "getMean(numberArray)\n",
    "getMedian(numberArray)\n",
    "getMode(numberArray)"
   ]
  },
  {
   "cell_type": "markdown",
   "metadata": {},
   "source": [
    "## Weighted mean"
   ]
  },
  {
   "cell_type": "code",
   "execution_count": 2,
   "metadata": {},
   "outputs": [
    {
     "name": "stdout",
     "output_type": "stream",
     "text": [
      "32.0\n"
     ]
    }
   ],
   "source": [
    "#inputs\n",
    "\n",
    "size        = \"5\"\n",
    "inputArray  = \"10 40 30 50 20 \"\n",
    "weightArray = \"1 2 3 4 5 \"\n",
    "\n",
    "# format inputs\n",
    "\n",
    "size = int(size)\n",
    "inputArray = list(map(int, inputArray.split()))\n",
    "weightArray = list(map(int, weightArray.split()))\n",
    "\n",
    "# weighted mean\n",
    "def getWeightedMean(inputArray,weightArray):\n",
    "    combinedArray = []\n",
    "    for x in range(0, len(inputArray)):\n",
    "        weightedValue = inputArray[x] * weightArray[x]\n",
    "        combinedArray.append(weightedValue)\n",
    "    \n",
    "    weightedMeanValue =  sum(combinedArray)/sum(weightArray)\n",
    "    \n",
    "    print(weightedMeanValue)\n",
    "    \n",
    "getWeightedMean(inputArray,weightArray)"
   ]
  },
  {
   "cell_type": "markdown",
   "metadata": {},
   "source": [
    "## Standard Deviation "
   ]
  },
  {
   "cell_type": "code",
   "execution_count": 3,
   "metadata": {},
   "outputs": [
    {
     "name": "stdout",
     "output_type": "stream",
     "text": [
      "14.1\n"
     ]
    }
   ],
   "source": [
    "size = \"5\"\n",
    "array = \"10 40 30 50 20\"\n",
    "numberArray = list(map(int, array.split()))\n",
    "\n",
    "def getstd(numberArray):\n",
    "    numMean = sum(numberArray)/len(numberArray)\n",
    "    squaredArray = []\n",
    "    for x in range(0, len(numberArray)):\n",
    "        numSquared = (numberArray[x] - numMean) ** 2\n",
    "        squaredArray.append(numSquared)\n",
    "\n",
    "    std = (sum(squaredArray)/len(numberArray)) ** 0.5\n",
    "    std = round(std, 1)\n",
    "    print(std)\n",
    "    \n",
    "getstd(numberArray)"
   ]
  },
  {
   "cell_type": "markdown",
   "metadata": {},
   "source": [
    "## Quartiles"
   ]
  },
  {
   "cell_type": "code",
   "execution_count": 1,
   "metadata": {},
   "outputs": [],
   "source": [
    "size       = \"9\"\n",
    "inputArray = \"3 7 8 5 12 14 21 13 18\"\n",
    "\n",
    "array = list(map(int, inputArray.split() ))\n",
    "array.sort()"
   ]
  },
  {
   "cell_type": "markdown",
   "metadata": {},
   "source": [
    "## Injector \n",
    "\n",
    "import random \n",
    "\n",
    "size = random.randrange(0,50)\n",
    "array = []\n",
    "for x in range(0, size):\n",
    "    array.append(random.randrange(0,9))\n",
    "array.sort()"
   ]
  },
  {
   "cell_type": "code",
   "execution_count": 163,
   "metadata": {},
   "outputs": [
    {
     "name": "stdout",
     "output_type": "stream",
     "text": [
      "6\n",
      "12\n",
      "13\n",
      "\n",
      "6\n",
      "12\n",
      "16\n",
      "[3, 5, 7, 8, 12, 13, 14, 18, 21]\n"
     ]
    }
   ],
   "source": [
    "\n",
    "\n",
    "## Need to fix. \n",
    "array.sort()\n",
    "def getMid(numberArray):\n",
    "    index = len(numberArray) // 2\n",
    "    if(len(numberArray) % 2): \n",
    "        medianVal = numberArray[index]\n",
    "    else:\n",
    "        medianVal = (numberArray[index-1] + numberArray[index])/2\n",
    "    print(int(medianVal))\n",
    "    return(int(medianVal))\n",
    "\n",
    "# Get first quartile\n",
    "index = len(array) // 2\n",
    "L = array[0:index]\n",
    "L.sort()\n",
    "getMid(L)\n",
    "\n",
    "# Get median \n",
    "getMid(array)\n",
    "\n",
    "# get thrid quartile \n",
    "index = len(array) // 2\n",
    "if(len(array) % 2): \n",
    "    R = array[index-1:]\n",
    "else:\n",
    "    R = array[index:]\n",
    "    \n",
    "R.sort()\n",
    "getMid(R)\n",
    "\n",
    "#devResult = [getMid(L),getMid(array),getMid(R)]\n",
    "print('')  \n",
    "\n",
    "## Working version\n",
    "from statistics import median\n",
    "arr = array \n",
    "t=int(len(arr)/2)\n",
    "if len(arr)%2==0:\n",
    "    L=arr[:t]\n",
    "    U=arr[t:]\n",
    "else:\n",
    "    L=arr[:t]\n",
    "    U=arr[t+1:]\n",
    "\n",
    "print(int(median(L)))\n",
    "print(int(median(arr)))\n",
    "print(int(median(U)))\n",
    "\n",
    "workingResult = [int(median(L)),int(median(arr)),int(median(arr))]\n",
    "\n",
    "print(array)\n",
    "#print(devResult)\n",
    "#print(workingResult)"
   ]
  },
  {
   "cell_type": "markdown",
   "metadata": {},
   "source": [
    "# Interquartile range"
   ]
  },
  {
   "cell_type": "code",
   "execution_count": 92,
   "metadata": {},
   "outputs": [
    {
     "name": "stdout",
     "output_type": "stream",
     "text": [
      "\n"
     ]
    },
    {
     "ename": "ValueError",
     "evalue": "invalid literal for int() with base 10: ''",
     "output_type": "error",
     "traceback": [
      "\u001b[0;31m---------------------------------------------------------------------------\u001b[0m",
      "\u001b[0;31mValueError\u001b[0m                                Traceback (most recent call last)",
      "\u001b[0;32m<ipython-input-92-66ea060af075>\u001b[0m in \u001b[0;36m<module>\u001b[0;34m\u001b[0m\n\u001b[1;32m      1\u001b[0m \u001b[0;32mimport\u001b[0m \u001b[0mstatistics\u001b[0m \u001b[0;32mas\u001b[0m \u001b[0mst\u001b[0m\u001b[0;34m\u001b[0m\u001b[0;34m\u001b[0m\u001b[0m\n\u001b[1;32m      2\u001b[0m \u001b[0;34m\u001b[0m\u001b[0m\n\u001b[0;32m----> 3\u001b[0;31m \u001b[0mn\u001b[0m \u001b[0;34m=\u001b[0m \u001b[0mint\u001b[0m\u001b[0;34m(\u001b[0m\u001b[0minput\u001b[0m\u001b[0;34m(\u001b[0m\u001b[0;34m)\u001b[0m\u001b[0;34m)\u001b[0m\u001b[0;34m\u001b[0m\u001b[0;34m\u001b[0m\u001b[0m\n\u001b[0m\u001b[1;32m      4\u001b[0m \u001b[0mdata\u001b[0m \u001b[0;34m=\u001b[0m \u001b[0mlist\u001b[0m\u001b[0;34m(\u001b[0m\u001b[0mmap\u001b[0m\u001b[0;34m(\u001b[0m\u001b[0mint\u001b[0m\u001b[0;34m,\u001b[0m \u001b[0minput\u001b[0m\u001b[0;34m(\u001b[0m\u001b[0;34m)\u001b[0m\u001b[0;34m.\u001b[0m\u001b[0msplit\u001b[0m\u001b[0;34m(\u001b[0m\u001b[0;34m)\u001b[0m\u001b[0;34m)\u001b[0m\u001b[0;34m)\u001b[0m\u001b[0;34m\u001b[0m\u001b[0;34m\u001b[0m\u001b[0m\n\u001b[1;32m      5\u001b[0m \u001b[0mfreq\u001b[0m \u001b[0;34m=\u001b[0m \u001b[0mlist\u001b[0m\u001b[0;34m(\u001b[0m\u001b[0mmap\u001b[0m\u001b[0;34m(\u001b[0m\u001b[0mint\u001b[0m\u001b[0;34m,\u001b[0m \u001b[0minput\u001b[0m\u001b[0;34m(\u001b[0m\u001b[0;34m)\u001b[0m\u001b[0;34m.\u001b[0m\u001b[0msplit\u001b[0m\u001b[0;34m(\u001b[0m\u001b[0;34m)\u001b[0m\u001b[0;34m)\u001b[0m\u001b[0;34m)\u001b[0m\u001b[0;34m\u001b[0m\u001b[0;34m\u001b[0m\u001b[0m\n",
      "\u001b[0;31mValueError\u001b[0m: invalid literal for int() with base 10: ''"
     ]
    }
   ],
   "source": [
    "import statistics as st\n",
    "\n",
    "n = int(input())\n",
    "data = list(map(int, input().split()))\n",
    "freq = list(map(int, input().split()))\n",
    "\n",
    "s = []\n",
    "for i in range(n):\n",
    "    s += [data[i]] * freq[i]\n",
    "N = sum(freq)\n",
    "s.sort()\n",
    "\n",
    "if n%2 != 0:\n",
    "    q1 = st.median(s[:N//2])\n",
    "    q3 = st.median(s[N//2+1:])\n",
    "else:\n",
    "    q1 = st.median(s[:N//2])\n",
    "    q3 = st.median(s[N//2:])\n",
    "\n",
    "ir = round(float(q3-q1), 1)\n",
    "print(ir)"
   ]
  },
  {
   "cell_type": "code",
   "execution_count": 63,
   "metadata": {},
   "outputs": [
    {
     "name": "stdout",
     "output_type": "stream",
     "text": [
      "Odd\n",
      "triggered\n"
     ]
    },
    {
     "ename": "IndexError",
     "evalue": "list index out of range",
     "output_type": "error",
     "traceback": [
      "\u001b[0;31m---------------------------------------------------------------------------\u001b[0m",
      "\u001b[0;31mIndexError\u001b[0m                                Traceback (most recent call last)",
      "\u001b[0;32m<ipython-input-63-1cb2b000a6d9>\u001b[0m in \u001b[0;36m<module>\u001b[0;34m\u001b[0m\n\u001b[1;32m     27\u001b[0m         \u001b[0mprint\u001b[0m\u001b[0;34m(\u001b[0m\u001b[0;34m'triggered'\u001b[0m\u001b[0;34m)\u001b[0m\u001b[0;34m\u001b[0m\u001b[0;34m\u001b[0m\u001b[0m\n\u001b[1;32m     28\u001b[0m         \u001b[0mrightIndex\u001b[0m \u001b[0;34m=\u001b[0m \u001b[0;34m(\u001b[0m\u001b[0mindex\u001b[0m\u001b[0;34m+\u001b[0m\u001b[0;36m1\u001b[0m\u001b[0;34m)\u001b[0m \u001b[0;34m+\u001b[0m \u001b[0;34m(\u001b[0m\u001b[0mlen\u001b[0m\u001b[0;34m(\u001b[0m\u001b[0marray\u001b[0m\u001b[0;34m[\u001b[0m\u001b[0mindex\u001b[0m\u001b[0;34m+\u001b[0m\u001b[0;36m1\u001b[0m\u001b[0;34m:\u001b[0m\u001b[0;34m]\u001b[0m\u001b[0;34m)\u001b[0m \u001b[0;34m//\u001b[0m \u001b[0;36m2\u001b[0m\u001b[0;34m)\u001b[0m\u001b[0;34m\u001b[0m\u001b[0;34m\u001b[0m\u001b[0m\n\u001b[0;32m---> 29\u001b[0;31m         \u001b[0mR\u001b[0m \u001b[0;34m=\u001b[0m \u001b[0;34m(\u001b[0m\u001b[0marray\u001b[0m\u001b[0;34m[\u001b[0m\u001b[0mrightIndex\u001b[0m \u001b[0;34m-\u001b[0m\u001b[0;36m1\u001b[0m\u001b[0;34m]\u001b[0m \u001b[0;34m+\u001b[0m \u001b[0marray\u001b[0m\u001b[0;34m[\u001b[0m\u001b[0mrightIndex\u001b[0m\u001b[0;34m]\u001b[0m\u001b[0;34m)\u001b[0m \u001b[0;34m//\u001b[0m\u001b[0;36m2\u001b[0m\u001b[0;34m\u001b[0m\u001b[0;34m\u001b[0m\u001b[0m\n\u001b[0m\u001b[1;32m     30\u001b[0m \u001b[0;34m\u001b[0m\u001b[0m\n\u001b[1;32m     31\u001b[0m \u001b[0;32melse\u001b[0m\u001b[0;34m:\u001b[0m\u001b[0;34m\u001b[0m\u001b[0;34m\u001b[0m\u001b[0m\n",
      "\u001b[0;31mIndexError\u001b[0m: list index out of range"
     ]
    }
   ],
   "source": [
    "import random \n",
    "\n",
    "size = random.randrange(0,50)\n",
    "array = []\n",
    "for x in range(0, size):\n",
    "    array.append(random.randrange(0,9))\n",
    "array.sort()\n",
    "\n",
    "\n",
    "def getMid(chosenRange):\n",
    "    if(chosenRange % 2):\n",
    "        return(chosenRange[len(chosenRange)//2])\n",
    "\n",
    "print(L)\n",
    "print(M)\n",
    "print(R)\n",
    "\n",
    "\n",
    "\n",
    "print('-----')\n",
    "## Working version\n",
    "from statistics import median\n",
    "arr = array \n",
    "t=int(len(arr)/2)\n",
    "if len(arr)%2==0:\n",
    "    L=arr[:t]\n",
    "    U=arr[t:]\n",
    "else:\n",
    "    L=arr[:t]\n",
    "    U=arr[t+1:]\n",
    "\n",
    "print(int(median(L)))\n",
    "print(int(median(arr)))\n",
    "print(int(median(U)))"
   ]
  },
  {
   "cell_type": "code",
   "execution_count": 58,
   "metadata": {},
   "outputs": [
    {
     "data": {
      "text/plain": [
       "[0,\n",
       " 0,\n",
       " 0,\n",
       " 0,\n",
       " 0,\n",
       " 0,\n",
       " 0,\n",
       " 1,\n",
       " 1,\n",
       " 1,\n",
       " 1,\n",
       " 2,\n",
       " 2,\n",
       " 2,\n",
       " 2,\n",
       " 2,\n",
       " 2,\n",
       " 2,\n",
       " 2,\n",
       " 3,\n",
       " 3,\n",
       " 3,\n",
       " 3,\n",
       " 4,\n",
       " 4,\n",
       " 4,\n",
       " 4,\n",
       " 4,\n",
       " 4,\n",
       " 4,\n",
       " 4,\n",
       " 4,\n",
       " 5,\n",
       " 5,\n",
       " 5,\n",
       " 5,\n",
       " 6,\n",
       " 6,\n",
       " 6,\n",
       " 6,\n",
       " 6,\n",
       " 7,\n",
       " 7,\n",
       " 7,\n",
       " 7,\n",
       " 8,\n",
       " 8]"
      ]
     },
     "execution_count": 58,
     "metadata": {},
     "output_type": "execute_result"
    }
   ],
   "source": [
    "array"
   ]
  },
  {
   "cell_type": "code",
   "execution_count": null,
   "metadata": {},
   "outputs": [],
   "source": []
  }
 ],
 "metadata": {
  "kernelspec": {
   "display_name": "Python 3",
   "language": "python",
   "name": "python3"
  },
  "language_info": {
   "codemirror_mode": {
    "name": "ipython",
    "version": 3
   },
   "file_extension": ".py",
   "mimetype": "text/x-python",
   "name": "python",
   "nbconvert_exporter": "python",
   "pygments_lexer": "ipython3",
   "version": "3.7.6"
  }
 },
 "nbformat": 4,
 "nbformat_minor": 4
}
