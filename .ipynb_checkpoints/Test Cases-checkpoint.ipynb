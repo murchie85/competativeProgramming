{
 "cells": [
  {
   "cell_type": "markdown",
   "metadata": {},
   "source": [
    "## Get Mean, Median and Mode"
   ]
  },
  {
   "cell_type": "code",
   "execution_count": 63,
   "metadata": {},
   "outputs": [
    {
     "name": "stdout",
     "output_type": "stream",
     "text": [
      "43900.6\n",
      "44627.5\n",
      "4978\n"
     ]
    }
   ],
   "source": [
    "import sys\n",
    "\n",
    "#arraySize = int(input())\n",
    "\n",
    "inputnum = '64630 11735 14216 99233 14470 4978 73429 38120 51135 67060'\n",
    "numberArray = list(map(int, inputnum.split()))\n",
    "\n",
    "\n",
    "def getMean(numberArray):\n",
    "    meanOut = sum(numberArray)/len(numberArray)\n",
    "    print(meanOut)\n",
    "\n",
    "\n",
    "def getMedian(numberArray):\n",
    "    numberArray.sort()\n",
    "    index = len(numberArray) // 2\n",
    "    if(len(numberArray) % 2): \n",
    "        print(numberArray[index])\n",
    "    else:\n",
    "        result = (numberArray[index - 1] + numberArray[index])/2\n",
    "        print(result)\n",
    "        \n",
    "def getMode(numberArray):\n",
    "    nums = numberArray\n",
    "    nums.sort()\n",
    "    counts = dict()\n",
    "    for i in nums:\n",
    "        # Get i then adds 1, alternatively updates 0 if not found (then adds 1)\n",
    "        counts[i] = counts.get(i, 0) + 1\n",
    "    mode = max(counts, key=counts.get)\n",
    "    print(mode)\n",
    "    \n",
    "getMean(numberArray)\n",
    "getMedian(numberArray)\n",
    "getMode(numberArray)"
   ]
  },
  {
   "cell_type": "code",
   "execution_count": null,
   "metadata": {},
   "outputs": [],
   "source": []
  },
  {
   "cell_type": "code",
   "execution_count": null,
   "metadata": {},
   "outputs": [],
   "source": []
  },
  {
   "cell_type": "code",
   "execution_count": null,
   "metadata": {},
   "outputs": [],
   "source": []
  },
  {
   "cell_type": "code",
   "execution_count": null,
   "metadata": {},
   "outputs": [],
   "source": []
  },
  {
   "cell_type": "code",
   "execution_count": null,
   "metadata": {},
   "outputs": [],
   "source": []
  },
  {
   "cell_type": "code",
   "execution_count": null,
   "metadata": {},
   "outputs": [],
   "source": []
  }
 ],
 "metadata": {
  "kernelspec": {
   "display_name": "Python 3",
   "language": "python",
   "name": "python3"
  },
  "language_info": {
   "codemirror_mode": {
    "name": "ipython",
    "version": 3
   },
   "file_extension": ".py",
   "mimetype": "text/x-python",
   "name": "python",
   "nbconvert_exporter": "python",
   "pygments_lexer": "ipython3",
   "version": "3.7.6"
  }
 },
 "nbformat": 4,
 "nbformat_minor": 4
}
