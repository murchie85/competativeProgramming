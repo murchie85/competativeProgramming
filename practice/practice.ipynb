{
 "cells": [
  {
   "cell_type": "markdown",
   "metadata": {},
   "source": [
    "# Compendium"
   ]
  },
  {
   "cell_type": "code",
   "execution_count": 101,
   "metadata": {},
   "outputs": [
    {
     "name": "stdout",
     "output_type": "stream",
     "text": [
      "Quartile Range: 23.49%\n"
     ]
    }
   ],
   "source": [
    "Position = str(round(297850/1267813 * 100,2)) + '%'\n",
    "print(\"Quartile Range: \" + str(Position))"
   ]
  },
  {
   "cell_type": "markdown",
   "metadata": {},
   "source": [
    "## MAP \n",
    "\n",
    "```python\n",
    "# Create Map\n",
    "out = map(int, [1,3,5,1,4])\n",
    "  \n",
    "\n",
    "# extract map\n",
    "out = list(out)\n",
    "\n",
    "```"
   ]
  },
  {
   "cell_type": "markdown",
   "metadata": {},
   "source": [
    "## Unique Values fromkeys\n",
    "\n",
    "```python\n",
    "#prepare a sorted list of values\n",
    "out = map(int, [1,3,5,1,4])\n",
    "out = list(out)\n",
    "out.sort()\n",
    "\n",
    "# remove dupes\n",
    "out = list(dict.fromkeys(out))\n",
    "```"
   ]
  },
  {
   "cell_type": "markdown",
   "metadata": {},
   "source": [
    "# Challenges"
   ]
  },
  {
   "cell_type": "code",
   "execution_count": 28,
   "metadata": {},
   "outputs": [
    {
     "data": {
      "text/plain": [
       "'\\nRead in a string\\nsplit it in len/k parts\\nremove duplicates and print\\n'"
      ]
     },
     "execution_count": 28,
     "metadata": {},
     "output_type": "execute_result"
    }
   ],
   "source": [
    "# Merge the tools\n",
    "\"\"\"\n",
    "Read in a string\n",
    "split it in len/k parts\n",
    "remove duplicates and print\n",
    "\"\"\""
   ]
  },
  {
   "cell_type": "code",
   "execution_count": 26,
   "metadata": {},
   "outputs": [],
   "source": [
    "def merge_the_tools(string, k):\n",
    "    # Length\n",
    "    n = len(string)\n",
    "    # Boundary conditions\n",
    "    if(n >=1 and n <=10**4 + 1):\n",
    "        # number of splits\n",
    "        a = int(n/k)\n",
    "        #final array to print\n",
    "        printArray = []\n",
    "        for x in range(0,a):\n",
    "            # build up sub array\n",
    "            subArray = []\n",
    "            # Start pos, is split number * k end pos is splitnumber * k + k\n",
    "            for y in range(x*k,(x*k)+k):\n",
    "                #build up the first split\n",
    "                subArray.append(string[y])\n",
    "            # get unique by using fromkeys\n",
    "            subArray = list(dict.fromkeys(subArray))\n",
    "            #append filtered element to final array\n",
    "            printArray.append(subArray)\n",
    "        \n",
    "        # Print method by going through each chunk\n",
    "        for item in printArray:\n",
    "            printElement = \"\"\n",
    "            for element in item:\n",
    "                printElement += str(element)\n",
    "            print(printElement)\n",
    "                \n",
    "        "
   ]
  },
  {
   "cell_type": "code",
   "execution_count": 27,
   "metadata": {},
   "outputs": [
    {
     "name": "stdout",
     "output_type": "stream",
     "text": [
      "AB\n",
      "CA\n",
      "AD\n"
     ]
    }
   ],
   "source": [
    "merge_the_tools('AABCAAADA',3)"
   ]
  },
  {
   "cell_type": "markdown",
   "metadata": {},
   "source": [
    "## list comprehension"
   ]
  },
  {
   "cell_type": "code",
   "execution_count": 8,
   "metadata": {},
   "outputs": [
    {
     "data": {
      "text/plain": [
       "[[1, 4], [1, 5], [1, 6], [2, 4], [2, 5], [2, 6], [3, 4], [3, 5], [3, 6]]"
      ]
     },
     "execution_count": 8,
     "metadata": {},
     "output_type": "execute_result"
    }
   ],
   "source": [
    "[[x,y] for x in [1,2,3] for y in [4,5,6]]"
   ]
  },
  {
   "cell_type": "code",
   "execution_count": 9,
   "metadata": {},
   "outputs": [
    {
     "data": {
      "text/plain": [
       "[0, 3, 6, 9]"
      ]
     },
     "execution_count": 9,
     "metadata": {},
     "output_type": "execute_result"
    }
   ],
   "source": [
    "[x for x in range(10) if x%3 ==0]"
   ]
  },
  {
   "cell_type": "code",
   "execution_count": 36,
   "metadata": {},
   "outputs": [
    {
     "data": {
      "text/plain": [
       "[[0, 0, 0],\n",
       " [0, 0, 1],\n",
       " [0, 0, 2],\n",
       " [0, 1, 0],\n",
       " [0, 1, 1],\n",
       " [1, 0, 0],\n",
       " [1, 0, 1],\n",
       " [1, 1, 0],\n",
       " [1, 1, 2]]"
      ]
     },
     "execution_count": 36,
     "metadata": {},
     "output_type": "execute_result"
    }
   ],
   "source": [
    "\"\"\"\n",
    "Cube with lengths x,y,z go through all possible coordinates of i,j,k where i+j+k != n\n",
    "\"\"\"\n",
    "\n",
    "x = 1\n",
    "y = 1 \n",
    "z = 2\n",
    "n = 3\n",
    "\n",
    "out = [[i,j,k] for i in range(0,x+1) for j in range(0,y+1) for k in range(0,z+1) if (i+j+k) != n]\n",
    "out"
   ]
  },
  {
   "cell_type": "markdown",
   "metadata": {},
   "source": [
    "## map "
   ]
  },
  {
   "cell_type": "code",
   "execution_count": 84,
   "metadata": {},
   "outputs": [
    {
     "data": {
      "text/plain": [
       "[1, 3, 4, 5]"
      ]
     },
     "execution_count": 84,
     "metadata": {},
     "output_type": "execute_result"
    }
   ],
   "source": [
    "# Create Map\n",
    "out = map(int, [1,3,5,1,4])\n",
    "# extract map\n",
    "out = list(out)\n"
   ]
  },
  {
   "cell_type": "code",
   "execution_count": 85,
   "metadata": {},
   "outputs": [
    {
     "data": {
      "text/plain": [
       "[1, 3, 4, 5]"
      ]
     },
     "execution_count": 85,
     "metadata": {},
     "output_type": "execute_result"
    }
   ],
   "source": [
    "\"\"\"\n",
    "Get runner up in list\n",
    "\n",
    "\n",
    "\n",
    "if __name__ == '__main__':\n",
    "    n = int(input())\n",
    "    arr = map(int, input().split())\n",
    "    out = list(arr)\n",
    "    out.sort()\n",
    "    out = list(dict.fromkeys(out))\n",
    "    print(out[-2])\n",
    "\n",
    "\"\"\"\n",
    "out = map(int, [1,3,5,1,4])\n",
    "out = list(out)\n",
    "out.sort()\n",
    "out = list(dict.fromkeys(out))\n",
    "out"
   ]
  },
  {
   "cell_type": "code",
   "execution_count": 71,
   "metadata": {},
   "outputs": [],
   "source": [
    "out"
   ]
  },
  {
   "cell_type": "markdown",
   "metadata": {},
   "source": [
    "# Nested Lists    \n",
    "\n",
    "Store student names, grades in nested list. Print 2nd lowest, sample input (first is num of students).  \n",
    "```\n",
    "Harry \n",
    "37.21 \n",
    "Berry \n",
    "37.21 \n",
    "Tina \n",
    "37.2 \n",
    "Akriti \n",
    "41 \n",
    "Harsh \n",
    "39 \n",
    "```"
   ]
  },
  {
   "cell_type": "code",
   "execution_count": 126,
   "metadata": {},
   "outputs": [],
   "source": [
    "# Input\n",
    "array = [[37.21, 'Harry'], [37.21, 'Berry'], [37.2, 'Tina'], [41.0, 'Akriti'], [39.0, 'Harsh']]"
   ]
  },
  {
   "cell_type": "code",
   "execution_count": 88,
   "metadata": {},
   "outputs": [
    {
     "name": "stdout",
     "output_type": "stream",
     "text": [
      "Berry\n",
      "Harry\n"
     ]
    },
    {
     "data": {
      "text/plain": [
       "[None, None]"
      ]
     },
     "execution_count": 88,
     "metadata": {},
     "output_type": "execute_result"
    }
   ],
   "source": [
    "# Sort on first elem\n",
    "array.sort()\n",
    "#strip numbers out only and get uniques\n",
    "scoreArray = [x[0] for x in array]\n",
    "scoreArray = list(dict.fromkeys(scoreArray))\n",
    "\n",
    "# pick second lowest\n",
    "target = scoreArray[1]\n",
    "\n",
    "# append all the scores matching this val\n",
    "targetArray = []\n",
    "for item in array:\n",
    "    if item[0] == target:\n",
    "        targetArray.append(item)\n",
    "\n",
    "# reverse order of sub elements to allow for sorting  \n",
    "studentArray = []\n",
    "for item in targetArray:\n",
    "    studentArray.append([item[1],item[0]])\n",
    "studentArray.sort()\n",
    "# print only the names as requred \n",
    "[print(x[0]) for x in studentArray]"
   ]
  },
  {
   "cell_type": "code",
   "execution_count": 127,
   "metadata": {},
   "outputs": [
    {
     "name": "stdout",
     "output_type": "stream",
     "text": [
      "Berry\n",
      "Harry\n"
     ]
    }
   ],
   "source": [
    "## Most optimal method\n",
    "marksheet = []\n",
    "for item in array:\n",
    "    marksheet.append([item[1], float(item[0])])\n",
    "\n",
    "second_highest = sorted(list(set([marks for name, marks in marksheet])))[1]\n",
    "print('\\n'.join([a for a,b in sorted(marksheet) if b == second_highest]))"
   ]
  },
  {
   "cell_type": "code",
   "execution_count": 133,
   "metadata": {},
   "outputs": [
    {
     "name": "stdout",
     "output_type": "stream",
     "text": [
      "[37.21, 37.21, 37.2, 41.0, 39.0]\n",
      "['Berry', 'Harry']\n"
     ]
    }
   ],
   "source": [
    "# explanation \n",
    "#pulls out numbers only don't need set\n",
    "print([marks for name, marks in marksheet])\n",
    "# short loop\n",
    "print([a for a,b in sorted(marksheet) if b == second_highest])"
   ]
  },
  {
   "cell_type": "markdown",
   "metadata": {},
   "source": [
    "# The Minion Game\n",
    "```\n",
    "Both players get string S\n",
    "both make substring\n",
    "stuart has to make words starting with constonants, kevin vowels\n",
    "you can't backtrack, it has to be first vowel/constanant then the remainder of hte string\n",
    "game ends when both players have made all substrings\n",
    "\n",
    "score +1 for each substring made\n",
    "\n",
    "print name score\n",
    "stuart 12 \n",
    "\n",
    "if draw print draw\n",
    "```"
   ]
  },
  {
   "cell_type": "code",
   "execution_count": 145,
   "metadata": {},
   "outputs": [],
   "source": [
    "word = 'banana'.upper()\n",
    "vowels = ['A','E','I','O','U']"
   ]
  },
  {
   "cell_type": "code",
   "execution_count": 144,
   "metadata": {},
   "outputs": [],
   "source": [
    "# get unique set of vowels\n",
    "\n",
    "availableVowels = []\n",
    "\n",
    "for vowel in vowels:\n",
    "    for letter in word:\n",
    "        if letter == vowel:\n",
    "            availableVowels.append(letter)\n",
    "            \n",
    "availableVowels = list(dict.fromkeys(availableVowels))"
   ]
  },
  {
   "cell_type": "code",
   "execution_count": 148,
   "metadata": {},
   "outputs": [
    {
     "data": {
      "text/plain": [
       "9"
      ]
     },
     "execution_count": 148,
     "metadata": {},
     "output_type": "execute_result"
    }
   ],
   "source": [
    "k = 0\n",
    "s = 0\n",
    "\n",
    "for x in range(len(word)):\n",
    "    if word[x] in vowels:\n",
    "        k += len(word) - x\n",
    "    else:\n",
    "        s += len(word) - x\n",
    "        \n"
   ]
  },
  {
   "cell_type": "code",
   "execution_count": 149,
   "metadata": {},
   "outputs": [
    {
     "data": {
      "text/plain": [
       "12"
      ]
     },
     "execution_count": 149,
     "metadata": {},
     "output_type": "execute_result"
    }
   ],
   "source": [
    "# best solution \n",
    "def minion_game(string):\n",
    "    vowel =['A','E','I','O','U']\n",
    "    S=0\n",
    "    K=0\n",
    "    for i in range(len(string)):\n",
    "        if string[i] in vowel:\n",
    "            K+= len(string)-i\n",
    "        else:\n",
    "            S+=len(string)-i\n",
    "    if S>K:\n",
    "        print(\"Stuart\"+\" \"+ \"%d\" % S)\n",
    "    elif K>S:\n",
    "        print(\"Kevin\"+\" \"+'%d' % K)\n",
    "    else:\n",
    "        print(\"Draw\")\n"
   ]
  },
  {
   "cell_type": "code",
   "execution_count": null,
   "metadata": {},
   "outputs": [],
   "source": []
  }
 ],
 "metadata": {
  "kernelspec": {
   "display_name": "Python 3",
   "language": "python",
   "name": "python3"
  },
  "language_info": {
   "codemirror_mode": {
    "name": "ipython",
    "version": 3
   },
   "file_extension": ".py",
   "mimetype": "text/x-python",
   "name": "python",
   "nbconvert_exporter": "python",
   "pygments_lexer": "ipython3",
   "version": "3.7.6"
  }
 },
 "nbformat": 4,
 "nbformat_minor": 4
}
